{
 "cells": [
  {
   "cell_type": "code",
   "execution_count": 1,
   "metadata": {
    "collapsed": true
   },
   "outputs": [],
   "source": [
    "import tensorflow as tf\n",
    "import numpy as np\n",
    "\n",
    "# Set seeds\n",
    "random_seed = 42\n",
    "tf.set_random_seed(random_seed)\n",
    "np.random.seed(random_seed)\n",
    "   \n",
    "# Import the mLSTM babbler model\n",
    "from unirep import babbler1900 as babbler\n",
    "    \n",
    "# Where model weights are stored.\n",
    "MODEL_WEIGHT_PATH = \"./data/1900_weights\""
   ]
  },
  {
   "cell_type": "code",
   "execution_count": 2,
   "metadata": {},
   "outputs": [
    {
     "name": "stderr",
     "output_type": "stream",
     "text": [
      "/usr/local/lib/python3.5/dist-packages/h5py/__init__.py:34: FutureWarning: Conversion of the second argument of issubdtype from `float` to `np.floating` is deprecated. In future, it will be treated as `np.float64 == np.dtype(float).type`.\n",
      "  from ._conv import register_converters as _register_converters\n"
     ]
    }
   ],
   "source": [
    "batch_size = 12\n",
    "model = babbler(batch_size=batch_size, model_path=MODEL_WEIGHT_PATH)"
   ]
  },
  {
   "cell_type": "markdown",
   "metadata": {},
   "source": [
    "We're testing using three seeds:\n",
    "- `MAWRQNTRYSRIEAIK` (16aas), propeptide inhibitory fragment\n",
    "- `MRYSRIEAIKIQILSKLRL` (19 aas), propeptide inhibitory fragment\n",
    "- `MDFGLDCDEHSTESRC` (12 aas), a piece of the active domain of GDF8"
   ]
  },
  {
   "cell_type": "code",
   "execution_count": null,
   "metadata": {},
   "outputs": [
    {
     "name": "stdout",
     "output_type": "stream",
     "text": [
      "[('MAWRQNTRYSRIEAIK', 0.01, 400), ('MAWRQNTRYSRIEAIK', 0.1, 400), ('MAWRQNTRYSRIEAIK', 0.15, 400), ('MAWRQNTRYSRIEAIK', 0.2, 400), ('MAWRQNTRYSRIEAIK', 0.25, 400), ('MAWRQNTRYSRIEAIK', 0.3, 400), ('MAWRQNTRYSRIEAIK', 0.35, 400), ('MAWRQNTRYSRIEAIK', 0.4, 400), ('MAWRQNTRYSRIEAIK', 0.45, 400), ('MAWRQNTRYSRIEAIK', 0.5, 400), ('MAWRQNTRYSRIEAIK', 0.5, 400), ('MAWRQNTRYSRIEAIK', 0.6, 400), ('MAWRQNTRYSRIEAIK', 0.65, 400), ('MAWRQNTRYSRIEAIK', 0.7, 400), ('MAWRQNTRYSRIEAIK', 0.75, 400), ('MAWRQNTRYSRIEAIK', 0.8, 400), ('MAWRQNTRYSRIEAIK', 0.85, 400), ('MAWRQNTRYSRIEAIK', 0.9, 400), ('MAWRQNTRYSRIEAIK', 0.95, 400), ('MAWRQNTRYSRIEAIK', 1.0, 400), ('MRYSRIEAIKIQILSKLRL', 0.01, 400), ('MRYSRIEAIKIQILSKLRL', 0.1, 400), ('MRYSRIEAIKIQILSKLRL', 0.15, 400), ('MRYSRIEAIKIQILSKLRL', 0.2, 400), ('MRYSRIEAIKIQILSKLRL', 0.25, 400), ('MRYSRIEAIKIQILSKLRL', 0.3, 400), ('MRYSRIEAIKIQILSKLRL', 0.35, 400), ('MRYSRIEAIKIQILSKLRL', 0.4, 400), ('MRYSRIEAIKIQILSKLRL', 0.45, 400), ('MRYSRIEAIKIQILSKLRL', 0.5, 400), ('MRYSRIEAIKIQILSKLRL', 0.5, 400), ('MRYSRIEAIKIQILSKLRL', 0.6, 400), ('MRYSRIEAIKIQILSKLRL', 0.65, 400), ('MRYSRIEAIKIQILSKLRL', 0.7, 400), ('MRYSRIEAIKIQILSKLRL', 0.75, 400), ('MRYSRIEAIKIQILSKLRL', 0.8, 400), ('MRYSRIEAIKIQILSKLRL', 0.85, 400), ('MRYSRIEAIKIQILSKLRL', 0.9, 400), ('MRYSRIEAIKIQILSKLRL', 0.95, 400), ('MRYSRIEAIKIQILSKLRL', 1.0, 400), ('MDFGLDCDEHSTESRC', 0.01, 400), ('MDFGLDCDEHSTESRC', 0.1, 400), ('MDFGLDCDEHSTESRC', 0.15, 400), ('MDFGLDCDEHSTESRC', 0.2, 400), ('MDFGLDCDEHSTESRC', 0.25, 400), ('MDFGLDCDEHSTESRC', 0.3, 400), ('MDFGLDCDEHSTESRC', 0.35, 400), ('MDFGLDCDEHSTESRC', 0.4, 400), ('MDFGLDCDEHSTESRC', 0.45, 400), ('MDFGLDCDEHSTESRC', 0.5, 400), ('MDFGLDCDEHSTESRC', 0.5, 400), ('MDFGLDCDEHSTESRC', 0.6, 400), ('MDFGLDCDEHSTESRC', 0.65, 400), ('MDFGLDCDEHSTESRC', 0.7, 400), ('MDFGLDCDEHSTESRC', 0.75, 400), ('MDFGLDCDEHSTESRC', 0.8, 400), ('MDFGLDCDEHSTESRC', 0.85, 400), ('MDFGLDCDEHSTESRC', 0.9, 400), ('MDFGLDCDEHSTESRC', 0.95, 400), ('MDFGLDCDEHSTESRC', 1.0, 400)]\n"
     ]
    },
    {
     "data": {
      "application/vnd.jupyter.widget-view+json": {
       "model_id": "2dbf53877eb24362a19e4b3dff488ca7"
      }
     },
     "metadata": {},
     "output_type": "display_data"
    },
    {
     "name": "stdout",
     "output_type": "stream",
     "text": [
      "No stop:\n",
      "seed:MAWRQNTRYSRIEAIK, length:400, temp:0.1\n",
      "MAWRQNTRYSRIEAIKAALAAGVLAAAAAAPAAAAPAAAPAAAAAAAAAAAAAAAAAAAAAAAAAAAAAAAAAAAAAAAAAAAAAAAAAAAAAAAAAAAAAAAAAAAAAAAAAAAAAAAAAAAAAAAAAAAAAAAAAAAAAAAAAAAAAAAAAAAAAAAAAAAAAAAAAAAAAAAAAAAAAAAAAAAAAAAAAAAAAAAAAAAAAAAAAAAAAAAAAAAAAAAAAAAAAAAAAAAAAAAAAAAAAAAAAAAAAAAAAAAAAAAAAAAAAAAAAAAAAAAAAAAAAAAAAAAAAAAAAAAAAAAAAAAAAAAAAAAAAAAAAAAAAAAAAAAAAAAAAAAAAAAAAAAAAAAAAAAAAAAAAAAAAAAAAAAAAAAAAAAAAAAAAAAAAAAAAAAAAAAA\n",
      "No stop:\n",
      "seed:MAWRQNTRYSRIEAIK, length:400, temp:0.2\n",
      "MAWRQNTRYSRIEAIKRRLEEEGLSLEELARRLGVSRQTISNWENGRSLPDIETLVALSELYDVSIDYLLKGDEKRENLEELREKIERLEKELEEARKALEEARRELEKAEEELEEAKKELEEAEEELEEARKELEEAEEELEEAEEELEEAEEELEEAEEELEEAEEELEEAEEELEEAEEELEEAEEELEEAEEELEEAEEELEEAEEELEEAEEELEEAEEELEEAEEELEEAEEELEEAEEELEEAEEELEEAEEELEEAEEELEEAEEELEEAEEELEEAEEELEEAEEELEEAEEELEEAEEELEEAEEELEEAEEELEEAEEELEEAEEELEEAEEELEEAEEELEEAEEELEEAEEELEEAEEELEEAEEELEEAEEELEEAEEELEEAEEE\n",
      "No stop:\n",
      "seed:MAWRQNTRYSRIEAIK, length:400, temp:0.25\n",
      "MAWRQNTRYSRIEAIKRRLEEIKREREERERERERERERERERERERERERERERERERERERERERERERERERERERERERERERERERERERERERERERERERERERERERERERERERERERERERERERERERERERERERERERERERERERERERERERERERERERERERERERERERERERERERERERERERERERERERERERERERERERERERERERERERERERERERERERERERERERERERERERERERERERERERERERERERERERERERERERERERERERERERERERERERERERERERERERERERERERERERERERERERERERERERERERERERERERERERERERERERERERERERERERERERERERE\n",
      "No stop:\n",
      "seed:MAWRQNTRYSRIEAIK, length:400, temp:0.3\n",
      "MAWRQNTRYSRIEAIKRRLEEIKREREERERQRREEEERRREEERREEERRREEERRREEERRREEERREEERREEERREEERREEERREEERREEERREEERREEERREEERREEERREEERREEERREEERREEERREEERREEERREEERREEERREEERREEERREEERREEERREEERREEERREEERREEERREEERREEERREEERREEERREEERREEERREEERREEERREEERREEERREEERREEERREEERREEERREEERREEERREEERREEERREEERREEERREEERREEERREEERREEERREEERREEERKEEERREEERREEERREEERREEERREEERREEERREEERREEERREEERREEERREEERREEERREEERRE\n",
      "No stop:\n",
      "seed:MAWRQNTRYSRIEAIK, length:400, temp:0.35\n",
      "MAWRQNTRYSRIEAIKRRLEEIKRETGLSPGQVAARLGISQTTLSRWERGETRPDLETLERLADALDVSVDWLLGRTDDETARADAEAVAALQREAAAALAEARVRRAEAEAAAARAEAELARLEAARRAAEAARAEAERRAAEARAAEARARAEAARAEAARAEAERRAAEARAEAEARAAEARAAAEAARAEAARAAEEARAAAEAARAEAARAAEAARAAEAARAAEAARAEAARAAEAARAAAEAARAAEAARAAEAARAAEAARAAEAARAAEAARAAEAARAAEAARAAEAARAAEAARAAAEAARAAEAARAAAEAARAAAEAARAAAEAARAAAAEAARAAAEAARAAEAARAAEAARAAEAARAAEAARAAEAARAAEAARAAEAARAAAE\n",
      "Duplicate babble!\n"
     ]
    }
   ],
   "source": [
    "import pandas as pd\n",
    "import itertools\n",
    "from tqdm import tqdm_notebook as tqdm\n",
    "\n",
    "# TODO: Mutationally scan these seeds?\n",
    "propep_seed_1 = \"MAWRQNTRYSRIEAIK\"\n",
    "propep_seed_2 = \"MRYSRIEAIKIQILSKLRL\"\n",
    "active_seed = \"MDFGLDCDEHSTESRC\"\n",
    "\n",
    "seeds = [propep_seed_1, propep_seed_2, active_seed]\n",
    "temps = [0.01, 0.10, 0.15, 0.20, 0.25, 0.30, 0.35, 0.40, 0.45, 0.5, 0.50, 0.60, 0.65, 0.70, 0.75, 0.80, 0.85, 0.90, 0.95, 1.0]\n",
    "lengths = [400]\n",
    "params = [seeds, temps, lengths]\n",
    "hyperparams = list(itertools.product(*params))\n",
    "print(hyperparams)\n",
    "babbles = pd.DataFrame(columns=[\"seed\", \"random_seed\", \"max_length\", \"temp\", \"generated_sequence\"])\n",
    "                                \n",
    "random_seed=42\n",
    "\n",
    "for hyperparam in tqdm(hyperparams):\n",
    "    seed = hyperparam[0]\n",
    "    temp = hyperparam[1]\n",
    "    length = hyperparam[2]\n",
    "    babble = model.get_babble(seed=seed, length=400, temp=temp)\n",
    "    if \"stop\" in babble:\n",
    "        babble = babble.split(\"stop\", 1)[0]\n",
    "        if babble not in babbles[\"generated_sequence\"].values:\n",
    "            # TODO: Get stability prediction on this babble\n",
    "            # TODO: Get binding predictions on this babble\n",
    "            babbles.loc[len(babbles)]=[seed, random_seed, length, temp, babble]\n",
    "        else:\n",
    "            print(\"Duplicate babble!\")\n",
    "    else:\n",
    "        print(\"No stop:\")\n",
    "        print(\"seed:{}, length:{}, temp:{}\".format(seed, length, temp))\n",
    "        print(babble)\n",
    "\n",
    "babbles.to_csv(\"./data/babbled_sequences.csv\", index=False)"
   ]
  },
  {
   "cell_type": "code",
   "execution_count": null,
   "metadata": {
    "collapsed": true
   },
   "outputs": [],
   "source": []
  }
 ],
 "metadata": {
  "kernelspec": {
   "display_name": "Python 3",
   "language": "python",
   "name": "python3"
  },
  "language_info": {
   "codemirror_mode": {
    "name": "ipython",
    "version": 3
   },
   "file_extension": ".py",
   "mimetype": "text/x-python",
   "name": "python",
   "nbconvert_exporter": "python",
   "pygments_lexer": "ipython3",
   "version": "3.5.2"
  }
 },
 "nbformat": 4,
 "nbformat_minor": 2
}
