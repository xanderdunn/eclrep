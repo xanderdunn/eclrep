{
 "cells": [
  {
   "cell_type": "code",
   "execution_count": 29,
   "metadata": {},
   "outputs": [
    {
     "name": "stdout",
     "output_type": "stream",
     "text": [
      "X: (11380, 5700)\n",
      "Y: (11380,)\n"
     ]
    }
   ],
   "source": [
    "# Import data\n",
    "import os\n",
    "import sys\n",
    "import pandas as pd\n",
    "import numpy as np\n",
    "from sklearn import linear_model\n",
    "from sklearn.model_selection import train_test_split\n",
    "from scipy import stats\n",
    "from tqdm import tqdm_notebook as tqdm\n",
    "\n",
    "np.random.seed(42)\n",
    "np.set_printoptions(threshold=sys.maxsize)\n",
    "\n",
    "path = \"./data/stability_data\"\n",
    "ids_path = os.path.join(path, \"all_rds_ids.hdf\")\n",
    "reps_path = os.path.join(path, \"all_rds_reps.hdf\")\n",
    "\n",
    "# Get the data\n",
    "output_path = os.path.join(path, \"stability_with_unirep_fusion.hdf\")\n",
    "ids = pd.read_hdf(output_path, key=\"ids\").reset_index(drop=True)\n",
    "reps = pd.read_hdf(output_path, key=\"reps\").reset_index(drop=True)\n",
    "\n",
    "print(\"X: {}\".format(reps.shape))\n",
    "print(\"Y: {}\".format(ids[\"stability\"].shape))"
   ]
  },
  {
   "cell_type": "code",
   "execution_count": null,
   "metadata": {},
   "outputs": [],
   "source": [
    "# Create test set by removing specific proteins\n",
    "test_set_protein_names = [\"hYAP65\", \"EHEE_rd2_0005\", \"HHH_rd3_0138\", \"HHH_rd2_0134\", \"villin\", \"EEHEE_rd3_1498\", \"EEHEE_rd3_0037\", \"HEEH_rd3_0872\"]\n",
    "\n",
    "test_indices = ids.name.str.contains('|'.join(test_set_protein_names))\n",
    "\n",
    "test_proteins = ids[test_indices]\n",
    "print(test_proteins.shape)\n",
    "test_reps = reps[test_indices]\n",
    "print(test_reps.shape)\n",
    "train_proteins = ids[~test_indices]\n",
    "print(train_proteins.shape)\n",
    "train_reps = reps[~test_indices]\n",
    "print(train_reps.shape)\n",
    "\n",
    "assert test_proteins.shape[0]+train_proteins.shape[0] == ids.shape[0]"
   ]
  },
  {
   "cell_type": "code",
   "execution_count": 30,
   "metadata": {},
   "outputs": [
    {
     "name": "stdout",
     "output_type": "stream",
     "text": [
      "The test set has 1707 data points\n",
      "Training...\n",
      "Train score: 0.6489658966205687\n",
      "Test score: 0.6168576386710669\n"
     ]
    }
   ],
   "source": [
    "# Train and test model on original sequences\n",
    "from data_utils import aa_seq_to_int\n",
    "import data_utils\n",
    "import importlib\n",
    "importlib.reload(data_utils)\n",
    "\n",
    "seq_ints = ids[\"sequence\"].apply(aa_seq_to_int).tolist()\n",
    "\n",
    "X_train, X_test, y_train, y_test = train_test_split(seq_ints, ids[\"stability\"], test_size=0.15)\n",
    "print(\"The test set has {} data points\".format(len(X_test)))\n",
    "\n",
    "cv = 10\n",
    "# LassoLars usage: https://scikit-learn.org/stable/modules/generated/sklearn.linear_model.LassoLars.html#sklearn.linear_model.LassoLars\n",
    "reg_sequences = linear_model.LassoLarsCV(cv=cv)\n",
    "print(\"Training...\")\n",
    "reg_sequences.fit(X_train, y_train)\n",
    "\n",
    "score_train = reg_sequences.score(X_train, y_train)\n",
    "score_test = reg_sequences.score(X_test, y_test)\n",
    "print(\"Train score: {}\".format(score_train))\n",
    "print(\"Test score: {}\".format(score_test))"
   ]
  },
  {
   "cell_type": "code",
   "execution_count": null,
   "metadata": {},
   "outputs": [],
   "source": [
    "# Train and test model on protein-specific test set sequences\n",
    "from data_utils import aa_seq_to_int\n",
    "\n",
    "train_ints = train_proteins[\"sequence\"].apply(aa_seq_to_int).tolist()\n",
    "test_ints = test_proteins[\"sequence\"].apply(aa_seq_to_int).tolist()\n",
    "\n",
    "cv = 20\n",
    "# LassoLars usage: https://scikit-learn.org/stable/modules/generated/sklearn.linear_model.LassoLars.html#sklearn.linear_model.LassoLars\n",
    "reg_sequences = linear_model.LassoLarsCV(cv=cv)\n",
    "print(\"Training...\")\n",
    "print(len(train_ints))\n",
    "print(train_proteins[\"stability\"].shape)\n",
    "reg_sequences.fit(train_ints, train_proteins[\"stability\"])\n",
    "\n",
    "score_train = reg_sequences.score(train_ints, train_proteins[\"stability\"])\n",
    "score_test = reg_sequences.score(test_ints, test_proteins[\"stability\"])\n",
    "print(\"Train score: {}\".format(score_train))\n",
    "print(\"Test score: {}\".format(score_test))"
   ]
  },
  {
   "cell_type": "code",
   "execution_count": 31,
   "metadata": {},
   "outputs": [
    {
     "name": "stdout",
     "output_type": "stream",
     "text": [
      "9673 points in test set\n",
      "Training 3-fold cross validated LassoLars with EclRep Fusion representations as input...\n"
     ]
    },
    {
     "data": {
      "text/plain": [
       "LassoLarsCV(copy_X=True, cv=3, eps=2.220446049250313e-16, fit_intercept=True,\n",
       "            max_iter=500, max_n_alphas=1000, n_jobs=None, normalize=True,\n",
       "            positive=False, precompute='auto', verbose=False)"
      ]
     },
     "execution_count": 31,
     "metadata": {},
     "output_type": "execute_result"
    }
   ],
   "source": [
    "# Train and test model on representations\n",
    "X_train, X_test, y_train, y_test = train_test_split(reps, ids[\"stability\"], test_size=0.15)\n",
    "print(\"{} points in test set\".format(X_train.shape[0]))\n",
    "\n",
    "cv = 3\n",
    "reg_uni = linear_model.LassoLarsCV(cv=cv)\n",
    "print(\"Training {}-fold cross validated LassoLars with EclRep Fusion representations as input...\".format(cv))\n",
    "reg_uni.fit(X_train, y_train)"
   ]
  },
  {
   "cell_type": "code",
   "execution_count": 32,
   "metadata": {},
   "outputs": [
    {
     "name": "stdout",
     "output_type": "stream",
     "text": [
      "Train score: 0.8123528245555276\n",
      "Test score: 0.7939696503486919\n",
      "Spearman's p on test set: SpearmanrResult(correlation=0.8933506232821207, pvalue=0.0)\n"
     ]
    },
    {
     "name": "stderr",
     "output_type": "stream",
     "text": [
      "/usr/local/lib/python3.5/dist-packages/IPython/core/display.py:689: UserWarning:\n",
      "\n",
      "Consider using IPython.display.IFrame instead\n",
      "\n"
     ]
    },
    {
     "data": {
      "text/html": [
       "<iframe id=\"igraph\" scrolling=\"no\" style=\"border:none;\" seamless=\"seamless\" src=\"https://plot.ly/~xanderdunn/4.embed\" height=\"525px\" width=\"100%\"></iframe>"
      ],
      "text/plain": [
       "<chart_studio.tools.PlotlyDisplay object>"
      ]
     },
     "execution_count": 32,
     "metadata": {},
     "output_type": "execute_result"
    }
   ],
   "source": [
    "score_train = reg_uni.score(X_train, y_train)\n",
    "score_test = reg_uni.score(X_test, y_test)\n",
    "print(\"Train score: {}\".format(score_train))\n",
    "print(\"Test score: {}\".format(score_test))\n",
    "\n",
    "# Get Spearman's p correlation on test set predictions\n",
    "test_predictions = reg_uni.predict(X_test)\n",
    "spearman_test = stats.spearmanr(test_predictions, y_test)\n",
    "print(\"Spearman's p on test set: {}\".format(spearman_test))\n",
    "\n",
    "# Plot the predictions vs. measured values\n",
    "import plotly.plotly as py\n",
    "import plotly\n",
    "import plotly.graph_objs as go\n",
    "\n",
    "plotly.tools.set_credentials_file(username='xanderdunn', api_key='GtTpDQavToMaADqeMMu4')\n",
    "\n",
    "trace = go.Scatter(\n",
    "    x = test_predictions,\n",
    "    y = y_test,\n",
    "    mode = 'markers'\n",
    ")\n",
    "\n",
    "py.iplot([trace], filename=\"Peptide Stability Prediction vs. Measured Stability\")"
   ]
  },
  {
   "cell_type": "markdown",
   "metadata": {},
   "source": [
    "![Capture.PNG](/tf/notebooks/Capture.PNG)"
   ]
  },
  {
   "cell_type": "code",
   "execution_count": null,
   "metadata": {},
   "outputs": [],
   "source": [
    "cv = 10\n",
    "reg_uni = linear_model.LassoLarsCV(cv=cv)\n",
    "print(\"Training {}-fold cross validated LassoLars with EclRep Fusion representations as input on {} input points...\".format(cv, train_reps.shape))\n",
    "reg_uni.fit(train_reps, train_proteins[\"stability\"])"
   ]
  },
  {
   "cell_type": "code",
   "execution_count": null,
   "metadata": {},
   "outputs": [],
   "source": [
    "score_train = reg_uni.score(train_reps, train_proteins[\"stability\"])\n",
    "score_test = reg_uni.score(test_reps, test_proteins[\"stability\"])\n",
    "print(\"Train score: {}\".format(score_train))\n",
    "print(\"Test score: {}\".format(score_test))"
   ]
  }
 ],
 "metadata": {
  "kernelspec": {
   "display_name": "Python 3",
   "language": "python",
   "name": "python3"
  },
  "language_info": {
   "codemirror_mode": {
    "name": "ipython",
    "version": 3
   },
   "file_extension": ".py",
   "mimetype": "text/x-python",
   "name": "python",
   "nbconvert_exporter": "python",
   "pygments_lexer": "ipython3",
   "version": "3.5.2"
  }
 },
 "nbformat": 4,
 "nbformat_minor": 2
}
