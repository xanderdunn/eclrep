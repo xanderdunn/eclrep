{
 "cells": [
  {
   "cell_type": "code",
   "execution_count": 32,
   "metadata": {},
   "outputs": [
    {
     "name": "stdout",
     "output_type": "stream",
     "text": [
      "X: (11380, 5700)\n",
      "Y: (11380,)\n"
     ]
    }
   ],
   "source": [
    "import os\n",
    "import pandas as pd\n",
    "import numpy as np\n",
    "from sklearn import linear_model\n",
    "from sklearn.datasets import make_regression\n",
    "from sklearn.model_selection import train_test_split\n",
    "from scipy import stats\n",
    "from tqdm import tqdm_notebook as tqdm\n",
    "\n",
    "np.random.seed(42)\n",
    "\n",
    "import sys\n",
    "import numpy\n",
    "numpy.set_printoptions(threshold=sys.maxsize)\n",
    "\n",
    "path = \"./data/stability_data\"\n",
    "output_path = os.path.join(path, \"stability_with_unirep_fusion.hdf\")\n",
    "\n",
    "ids = pd.read_hdf(output_path, key=\"ids\")\n",
    "reps = pd.read_hdf(output_path, key=\"reps\")\n",
    "\n",
    "print(\"X: {}\".format(reps.shape))\n",
    "print(\"Y: {}\".format(ids[\"stability\"].shape))"
   ]
  },
  {
   "cell_type": "code",
   "execution_count": 36,
   "metadata": {},
   "outputs": [
    {
     "data": {
      "application/vnd.jupyter.widget-view+json": {
       "model_id": "743183c37980441ab326c44a0749a009"
      }
     },
     "metadata": {},
     "output_type": "display_data"
    }
   ],
   "source": [
    "test_set_protein_names = [\"hYAP65\", \"EHEE_rd2_0005\", \"HHH_rd3_0138\", \"HHH_rd2_0134\", \"villin\", \"EEHEE_rd3_1498\", \"EEHEE_rd3_0037\", \"HEEH_rd3_0872\"]\n",
    "\n",
    "test_proteins = pd.DataFrame(columns=[\"sequence\", \"stability\", \"name\"])\n",
    "test_reps = pd.DataFrame(columns=list(range(0, 5700)))\n",
    "train_proteins = pd.DataFrame(columns=[\"sequence\", \"stability\", \"name\"])\n",
    "train_reps = pd.DataFrame(columns=list(range(0, 5700)))\n",
    "# Iterate the ids and put them into train or test based on matching the \n",
    "for index, row in tqdm(ids.iterrows(), total=ids.shape[0]):\n",
    "    if any(protein in row[\"name\"] for protein in test_set_protein_names):\n",
    "        test_proteins.loc[len(test_proteins)]=[row[\"sequence\"], row[\"stability\"], row[\"name\"]]\n",
    "        test_reps.loc[len(test_reps)]=reps.iloc[index]\n",
    "    else:\n",
    "        train_proteins.loc[len(train_proteins)]=[row[\"sequence\"], row[\"stability\"], row[\"name\"]]\n",
    "        train_reps.loc[len(train_reps)]=reps.iloc[index]"
   ]
  },
  {
   "cell_type": "code",
   "execution_count": 31,
   "metadata": {},
   "outputs": [
    {
     "name": "stdout",
     "output_type": "stream",
     "text": [
      "(3614, 3)\n",
      "(2271, 3)\n",
      "sequence     TTIKVNGQEYTVPLSPEQAAKAAKKRWPDYEVQIHGNTVKVTR\n",
      "stability                                           0.85\n",
      "name                                  EEHEE_rd3_0037.pdb\n",
      "Name: 0, dtype: object\n",
      "0       0.013220\n",
      "1      -0.023352\n",
      "2       0.017943\n",
      "3       0.001995\n",
      "4      -0.179529\n",
      "5       0.010197\n",
      "6      -0.149218\n",
      "7       0.002266\n",
      "8      -0.018254\n",
      "9       0.072948\n",
      "10      0.207161\n",
      "11      0.010123\n",
      "12      0.064938\n",
      "13      0.053157\n",
      "14      0.016196\n",
      "15      0.009681\n",
      "16      0.045279\n",
      "17     -0.035806\n",
      "18      0.137569\n",
      "19     -0.026070\n",
      "20     -0.000789\n",
      "21      0.050852\n",
      "22      0.058471\n",
      "23     -0.086977\n",
      "24      0.056679\n",
      "25     -0.037811\n",
      "26     -0.009353\n",
      "27      0.025263\n",
      "28      0.010998\n",
      "29     -0.052333\n",
      "          ...   \n",
      "5670    0.624806\n",
      "5671   -0.312815\n",
      "5672    1.221013\n",
      "5673   -0.288682\n",
      "5674   -0.381718\n",
      "5675   -2.431110\n",
      "5676   -1.886887\n",
      "5677    2.433378\n",
      "5678   -0.459735\n",
      "5679   -1.152914\n",
      "5680   -0.564261\n",
      "5681    0.883261\n",
      "5682    1.340542\n",
      "5683   -0.711250\n",
      "5684   -0.617897\n",
      "5685    2.087688\n",
      "5686   -0.870234\n",
      "5687    1.205188\n",
      "5688   -2.492855\n",
      "5689   -0.216529\n",
      "5690    1.151649\n",
      "5691    0.801495\n",
      "5692   -1.201436\n",
      "5693    2.847294\n",
      "5694   -2.590188\n",
      "5695   -1.490481\n",
      "5696   -0.307197\n",
      "5697    0.568060\n",
      "5698    0.921261\n",
      "5699    1.437916\n",
      "Name: 0, Length: 5700, dtype: float32\n",
      "name                                  EEHEE_rd3_0037.pdb\n",
      "sequence     TTIKVNGQEYTVPLSPEQAAKAAKKRWPDYEVQIHGNTVKVTR\n",
      "stability                                           0.85\n",
      "Name: 0, dtype: object\n",
      "0       0.013220\n",
      "1      -0.023352\n",
      "2       0.017943\n",
      "3       0.001995\n",
      "4      -0.179529\n",
      "5       0.010197\n",
      "6      -0.149218\n",
      "7       0.002266\n",
      "8      -0.018254\n",
      "9       0.072948\n",
      "10      0.207161\n",
      "11      0.010123\n",
      "12      0.064938\n",
      "13      0.053157\n",
      "14      0.016196\n",
      "15      0.009681\n",
      "16      0.045279\n",
      "17     -0.035806\n",
      "18      0.137569\n",
      "19     -0.026070\n",
      "20     -0.000789\n",
      "21      0.050852\n",
      "22      0.058471\n",
      "23     -0.086977\n",
      "24      0.056679\n",
      "25     -0.037811\n",
      "26     -0.009353\n",
      "27      0.025263\n",
      "28      0.010998\n",
      "29     -0.052333\n",
      "          ...   \n",
      "5670    0.624806\n",
      "5671   -0.312815\n",
      "5672    1.221013\n",
      "5673   -0.288682\n",
      "5674   -0.381718\n",
      "5675   -2.431110\n",
      "5676   -1.886887\n",
      "5677    2.433378\n",
      "5678   -0.459735\n",
      "5679   -1.152914\n",
      "5680   -0.564261\n",
      "5681    0.883261\n",
      "5682    1.340542\n",
      "5683   -0.711250\n",
      "5684   -0.617897\n",
      "5685    2.087688\n",
      "5686   -0.870234\n",
      "5687    1.205188\n",
      "5688   -2.492855\n",
      "5689   -0.216529\n",
      "5690    1.151649\n",
      "5691    0.801495\n",
      "5692   -1.201436\n",
      "5693    2.847294\n",
      "5694   -2.590188\n",
      "5695   -1.490481\n",
      "5696   -0.307197\n",
      "5697    0.568060\n",
      "5698    0.921261\n",
      "5699    1.437916\n",
      "Name: 0, Length: 5700, dtype: float32\n"
     ]
    }
   ],
   "source": [
    "print(train_proteins.shape)\n",
    "print(train_reps.shape)\n",
    "print(test_proteins.shape)\n",
    "print(test_reps.shape)\n",
    "print(test_proteins.iloc[0])\n",
    "print(test_reps.iloc[0])\n",
    "print(ids.iloc[0])\n",
    "print(reps.iloc[0])"
   ]
  },
  {
   "cell_type": "code",
   "execution_count": 33,
   "metadata": {},
   "outputs": [
    {
     "name": "stdout",
     "output_type": "stream",
     "text": [
      "Training...\n",
      "Train score: 0.648888144394212\n",
      "Test score: 0.6165686119198099\n"
     ]
    }
   ],
   "source": [
    "from data_utils import aa_seq_to_int\n",
    "\n",
    "seq_ints = []\n",
    "\n",
    "for seq in ids[\"sequence\"]:\n",
    "    seq_int = aa_seq_to_int(seq)\n",
    "    seq_ints += [seq_int]\n",
    "    \n",
    "X_train, X_test, y_train, y_test = train_test_split(seq_ints, ids[\"stability\"], test_size=0.15)\n",
    "\n",
    "cv = 3\n",
    "# LassoLars usage: https://scikit-learn.org/stable/modules/generated/sklearn.linear_model.LassoLars.html#sklearn.linear_model.LassoLars\n",
    "reg_sequences = linear_model.LassoLarsCV(cv=cv)\n",
    "print(\"Training...\")\n",
    "reg_sequences.fit(X_train, y_train)\n",
    "\n",
    "score_train = reg_sequences.score(X_train, y_train)\n",
    "score_test = reg_sequences.score(X_test, y_test)\n",
    "print(\"Train score: {}\".format(score_train))\n",
    "print(\"Test score: {}\".format(score_test))"
   ]
  },
  {
   "cell_type": "code",
   "execution_count": 39,
   "metadata": {},
   "outputs": [
    {
     "name": "stdout",
     "output_type": "stream",
     "text": [
      "6784\n",
      "4596\n",
      "Training...\n",
      "Train score: 0.0\n",
      "Test score: -0.07532190932976013\n"
     ]
    }
   ],
   "source": [
    "from data_utils import aa_seq_to_int\n",
    "\n",
    "train_seq_ints = []\n",
    "test_seq_ints = []\n",
    "\n",
    "for seq in train_proteins[\"sequence\"]:\n",
    "    seq_int = aa_seq_to_int(seq)\n",
    "    train_seq_ints += [seq_int]\n",
    "    \n",
    "for seq in test_proteins[\"sequence\"]:\n",
    "    seq_int = aa_seq_to_int(seq)\n",
    "    test_seq_ints += [seq_int]\n",
    "    \n",
    "print(len(train_seq_ints))\n",
    "print(len(test_seq_ints))\n",
    "\n",
    "cv = 3\n",
    "# LassoLars usage: https://scikit-learn.org/stable/modules/generated/sklearn.linear_model.LassoLars.html#sklearn.linear_model.LassoLars\n",
    "reg_sequences = linear_model.LassoLarsCV(cv=cv)\n",
    "print(\"Training...\")\n",
    "reg_sequences.fit(train_seq_ints, train_proteins[\"stability\"])\n",
    "\n",
    "score_train = reg_sequences.score(train_seq_ints, train_proteins[\"stability\"])\n",
    "score_test = reg_sequences.score(test_seq_ints, test_proteins[\"stability\"])\n",
    "print(\"Train score: {}\".format(score_train))\n",
    "print(\"Test score: {}\".format(score_test))"
   ]
  },
  {
   "cell_type": "code",
   "execution_count": 40,
   "metadata": {},
   "outputs": [
    {
     "name": "stdout",
     "output_type": "stream",
     "text": [
      "9673 points in test set\n",
      "Training 3-fold cross validated LassoLars with EclRep Fusion representations as input...\n"
     ]
    },
    {
     "name": "stderr",
     "output_type": "stream",
     "text": [
      "/usr/local/lib/python3.5/dist-packages/sklearn/linear_model/least_angle.py:339: ConvergenceWarning: Early stopping the lars path, as the residues are small and the current value of alpha is no longer well controlled. 246 iterations, alpha=4.474e-05, previous alpha=4.474e-05, with an active set of 165 regressors.\n",
      "  ConvergenceWarning)\n"
     ]
    },
    {
     "data": {
      "text/plain": [
       "LassoLarsCV(copy_X=True, cv=3, eps=2.220446049250313e-16, fit_intercept=True,\n",
       "      max_iter=500, max_n_alphas=1000, n_jobs=1, normalize=True,\n",
       "      positive=False, precompute='auto', verbose=False)"
      ]
     },
     "execution_count": 40,
     "metadata": {},
     "output_type": "execute_result"
    }
   ],
   "source": [
    "X_train, X_test, y_train, y_test = train_test_split(reps, ids[\"stability\"], test_size=0.15)\n",
    "print(\"{} points in test set\".format(X_train.shape[0]))\n",
    "\n",
    "cv = 3\n",
    "reg_uni = linear_model.LassoLarsCV(cv=cv)\n",
    "print(\"Training {}-fold cross validated LassoLars with EclRep Fusion representations as input...\".format(cv))\n",
    "reg_uni.fit(X_train, y_train)"
   ]
  },
  {
   "cell_type": "code",
   "execution_count": 1,
   "metadata": {},
   "outputs": [
    {
     "ename": "NameError",
     "evalue": "name 'reg_uni' is not defined",
     "output_type": "error",
     "traceback": [
      "\u001b[0;31m---------------------------------------------------------------------------\u001b[0m",
      "\u001b[0;31mNameError\u001b[0m                                 Traceback (most recent call last)",
      "\u001b[0;32m<ipython-input-1-4141d7244f88>\u001b[0m in \u001b[0;36m<module>\u001b[0;34m()\u001b[0m\n\u001b[0;32m----> 1\u001b[0;31m \u001b[0mscore_train\u001b[0m \u001b[0;34m=\u001b[0m \u001b[0mreg_uni\u001b[0m\u001b[0;34m.\u001b[0m\u001b[0mscore\u001b[0m\u001b[0;34m(\u001b[0m\u001b[0mX_train\u001b[0m\u001b[0;34m,\u001b[0m \u001b[0my_train\u001b[0m\u001b[0;34m)\u001b[0m\u001b[0;34m\u001b[0m\u001b[0m\n\u001b[0m\u001b[1;32m      2\u001b[0m \u001b[0mscore_test\u001b[0m \u001b[0;34m=\u001b[0m \u001b[0mreg_uni\u001b[0m\u001b[0;34m.\u001b[0m\u001b[0mscore\u001b[0m\u001b[0;34m(\u001b[0m\u001b[0mX_test\u001b[0m\u001b[0;34m,\u001b[0m \u001b[0my_test\u001b[0m\u001b[0;34m)\u001b[0m\u001b[0;34m\u001b[0m\u001b[0m\n\u001b[1;32m      3\u001b[0m \u001b[0mprint\u001b[0m\u001b[0;34m(\u001b[0m\u001b[0;34m\"Train score: {}\"\u001b[0m\u001b[0;34m.\u001b[0m\u001b[0mformat\u001b[0m\u001b[0;34m(\u001b[0m\u001b[0mscore_train\u001b[0m\u001b[0;34m)\u001b[0m\u001b[0;34m)\u001b[0m\u001b[0;34m\u001b[0m\u001b[0m\n\u001b[1;32m      4\u001b[0m \u001b[0mprint\u001b[0m\u001b[0;34m(\u001b[0m\u001b[0;34m\"Test score: {}\"\u001b[0m\u001b[0;34m.\u001b[0m\u001b[0mformat\u001b[0m\u001b[0;34m(\u001b[0m\u001b[0mscore_test\u001b[0m\u001b[0;34m)\u001b[0m\u001b[0;34m)\u001b[0m\u001b[0;34m\u001b[0m\u001b[0m\n\u001b[1;32m      5\u001b[0m \u001b[0;34m\u001b[0m\u001b[0m\n",
      "\u001b[0;31mNameError\u001b[0m: name 'reg_uni' is not defined"
     ]
    }
   ],
   "source": [
    "score_train = reg_uni.score(X_train, y_train)\n",
    "score_test = reg_uni.score(X_test, y_test)\n",
    "print(\"Train score: {}\".format(score_train))\n",
    "print(\"Test score: {}\".format(score_test))\n",
    "\n",
    "# Get Spearman's p correlation on test set predictions\n",
    "test_predictions = reg_uni.predict(X_test)\n",
    "spearman_test = stats.spearmanr(test_predictions, y_test)\n",
    "print(\"Spearman's p on test set: {}\".format(spearman_test))\n",
    "\n",
    "# Plot the predictions vs. measured values\n",
    "import plotly.plotly as py\n",
    "import plotly\n",
    "import plotly.graph_objs as go\n",
    "\n",
    "plotly.tools.set_credentials_file(username='xanderdunn', api_key='GtTpDQavToMaADqeMMu4')\n",
    "\n",
    "trace = go.Scatter(\n",
    "    x = test_predictions,\n",
    "    y = y_test,\n",
    "    mode = 'markers'\n",
    ")\n",
    "\n",
    "py.iplot([trace], filename=\"Peptide Stability Prediction vs. Measured Stability\")"
   ]
  },
  {
   "cell_type": "markdown",
   "metadata": {},
   "source": [
    "![Capture.PNG](/notebooks/Capture.PNG)"
   ]
  },
  {
   "cell_type": "code",
   "execution_count": 28,
   "metadata": {},
   "outputs": [
    {
     "name": "stdout",
     "output_type": "stream",
     "text": [
      "Training 3-fold cross validated LassoLars with EclRep Fusion representations as input...\n",
      "(6784, 5700)\n"
     ]
    },
    {
     "data": {
      "text/plain": [
       "LassoLarsCV(copy_X=True, cv=3, eps=2.220446049250313e-16, fit_intercept=True,\n",
       "      max_iter=500, max_n_alphas=1000, n_jobs=1, normalize=True,\n",
       "      positive=False, precompute='auto', verbose=False)"
      ]
     },
     "execution_count": 28,
     "metadata": {},
     "output_type": "execute_result"
    }
   ],
   "source": [
    "cv = 3\n",
    "reg_uni = linear_model.LassoLarsCV(cv=cv)\n",
    "print(\"Training {}-fold cross validated LassoLars with EclRep Fusion representations as input...\".format(cv))\n",
    "print(train_reps.shape)\n",
    "reg_uni.fit(train_reps, train_proteins[\"stability\"])"
   ]
  },
  {
   "cell_type": "code",
   "execution_count": 29,
   "metadata": {},
   "outputs": [
    {
     "name": "stdout",
     "output_type": "stream",
     "text": [
      "Train score: -2.2648549702353197e-14\n",
      "Test score: -0.07532198021384673\n"
     ]
    }
   ],
   "source": [
    "score_train = reg_uni.score(train_reps, train_proteins[\"stability\"])\n",
    "score_test = reg_uni.score(test_reps, test_proteins[\"stability\"])\n",
    "print(\"Train score: {}\".format(score_train))\n",
    "print(\"Test score: {}\".format(score_test))"
   ]
  },
  {
   "cell_type": "code",
   "execution_count": null,
   "metadata": {
    "collapsed": true
   },
   "outputs": [],
   "source": []
  }
 ],
 "metadata": {
  "kernelspec": {
   "display_name": "Python 3",
   "language": "python",
   "name": "python3"
  },
  "language_info": {
   "codemirror_mode": {
    "name": "ipython",
    "version": 3
   },
   "file_extension": ".py",
   "mimetype": "text/x-python",
   "name": "python",
   "nbconvert_exporter": "python",
   "pygments_lexer": "ipython3",
   "version": "3.5.2"
  }
 },
 "nbformat": 4,
 "nbformat_minor": 2
}
